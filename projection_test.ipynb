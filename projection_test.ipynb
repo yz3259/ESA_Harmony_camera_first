{
 "cells": [
  {
   "cell_type": "code",
   "execution_count": 1,
   "id": "07a3c359-9060-4313-89ae-57733dfc4347",
   "metadata": {},
   "outputs": [],
   "source": [
    "import numpy as np\n",
    "import matplotlib.pyplot as plt"
   ]
  },
  {
   "cell_type": "code",
   "execution_count": null,
   "id": "e4b6d878-3efe-4f21-9314-81caff454131",
   "metadata": {},
   "outputs": [],
   "source": [
    "def app2act_transform(lat,lon,h,theta,phi):\n",
    "    \"\"\"\n",
    "    Input:\n",
    "        lat,lon are in degrees\n",
    "        h: hight of clouds in [km]\n",
    "        theta and phi are in degrees\n",
    "        \n",
    "    \"\"\"\n",
    "    R = 6.371e6 # the radius of earth unit in meters\n",
    "    deg = np.pi*13/180 # rad of 13 degrees\n",
    "    a = h*1000/(np.tan(theta-np.pi/4))\n",
    "    dx = -np.sin(phi-deg)*a\n",
    "    dy = -np.cos(phi-deg)*a\n",
    "    \n",
    "    lat1 = lat + 180*dx/(np.pi*R*np.cos(lon*np.pi/180))\n",
    "    lon1 = lon + 180*dy/(np.pi*R)\n",
    "    \n",
    "    return lat1,lon1"
   ]
  },
  {
   "cell_type": "code",
   "execution_count": 3,
   "id": "929cf52b-80bd-47c0-b71f-30b102777a01",
   "metadata": {},
   "outputs": [
    {
     "data": {
      "text/plain": [
       "6371000.0"
      ]
     },
     "execution_count": 3,
     "metadata": {},
     "output_type": "execute_result"
    }
   ],
   "source": []
  }
 ],
 "metadata": {
  "kernelspec": {
   "display_name": "Python 3 (ipykernel)",
   "language": "python",
   "name": "python3"
  },
  "language_info": {
   "codemirror_mode": {
    "name": "ipython",
    "version": 3
   },
   "file_extension": ".py",
   "mimetype": "text/x-python",
   "name": "python",
   "nbconvert_exporter": "python",
   "pygments_lexer": "ipython3",
   "version": "3.10.9"
  }
 },
 "nbformat": 4,
 "nbformat_minor": 5
}
